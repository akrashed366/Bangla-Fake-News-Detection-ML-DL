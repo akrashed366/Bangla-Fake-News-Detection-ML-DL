{
  "nbformat": 4,
  "nbformat_minor": 0,
  "metadata": {
    "colab": {
      "name": "preprocessing.ipynb",
      "provenance": []
    },
    "kernelspec": {
      "name": "python3",
      "display_name": "Python 3"
    }
  },
  "cells": [
    {
      "cell_type": "code",
      "metadata": {
        "id": "mau-3s2Gd63P"
      },
      "source": [
        "import numpy as np\n",
        "import pandas as pd\n",
        "import seaborn as sb\n",
        "from matplotlib.pyplot import figure, show"
      ],
      "execution_count": 565,
      "outputs": []
    },
    {
      "cell_type": "markdown",
      "metadata": {
        "id": "QPzKjKXZaMvg"
      },
      "source": [
        "# Dataset"
      ]
    },
    {
      "cell_type": "code",
      "metadata": {
        "colab": {
          "base_uri": "https://localhost:8080/"
        },
        "id": "lCjlFtdt0ZkI",
        "outputId": "9b3119c9-8f3f-4f5a-a11c-b8aeb0bd3f68"
      },
      "source": [
        "df = pd.read_csv('/content/drive/MyDrive/Machine Learning Algorithm/Bangla Fake News Detection/Dataset/LabeledAuthentic-7K.csv', engine='python', encoding='utf-8')\n",
        "df.shape"
      ],
      "execution_count": 566,
      "outputs": [
        {
          "output_type": "execute_result",
          "data": {
            "text/plain": [
              "(7202, 9)"
            ]
          },
          "metadata": {
            "tags": []
          },
          "execution_count": 566
        }
      ]
    },
    {
      "cell_type": "code",
      "metadata": {
        "colab": {
          "base_uri": "https://localhost:8080/"
        },
        "id": "RlVUfx_50mbw",
        "outputId": "6366820c-09b6-4312-d5bd-16a530af0d60"
      },
      "source": [
        "df1= pd.read_csv('/content/drive/MyDrive/Machine Learning Algorithm/Bangla Fake News Detection/Dataset/LabeledFake-1K.csv', engine='python', encoding='utf-8')\n",
        "df1.shape"
      ],
      "execution_count": 567,
      "outputs": [
        {
          "output_type": "execute_result",
          "data": {
            "text/plain": [
              "(1299, 10)"
            ]
          },
          "metadata": {
            "tags": []
          },
          "execution_count": 567
        }
      ]
    },
    {
      "cell_type": "code",
      "metadata": {
        "colab": {
          "base_uri": "https://localhost:8080/"
        },
        "id": "PNQvDcuQav1o",
        "outputId": "50f7954f-d42d-4f23-9f37-c4db42cd1e8e"
      },
      "source": [
        "df2= pd.read_csv('/content/drive/MyDrive/Machine Learning Algorithm/Bangla Fake News Detection/Dataset/Authentic-48K.csv', engine='python', encoding='utf-8')\n",
        "df2.shape"
      ],
      "execution_count": 568,
      "outputs": [
        {
          "output_type": "execute_result",
          "data": {
            "text/plain": [
              "(48678, 7)"
            ]
          },
          "metadata": {
            "tags": []
          },
          "execution_count": 568
        }
      ]
    },
    {
      "cell_type": "code",
      "metadata": {
        "colab": {
          "base_uri": "https://localhost:8080/"
        },
        "id": "r7YN3Z2rbIdJ",
        "outputId": "08b08247-8a13-47d0-f422-26d90db04a11"
      },
      "source": [
        "df3= pd.read_csv('/content/drive/MyDrive/Machine Learning Algorithm/Bangla Fake News Detection/Dataset/Fake-1K.csv', engine='python', encoding='utf-8')\n",
        "df3.shape"
      ],
      "execution_count": 569,
      "outputs": [
        {
          "output_type": "execute_result",
          "data": {
            "text/plain": [
              "(1299, 7)"
            ]
          },
          "metadata": {
            "tags": []
          },
          "execution_count": 569
        }
      ]
    },
    {
      "cell_type": "markdown",
      "metadata": {
        "id": "BYDsOORIaTFZ"
      },
      "source": [
        "Merging All DataFrame"
      ]
    },
    {
      "cell_type": "code",
      "metadata": {
        "colab": {
          "base_uri": "https://localhost:8080/"
        },
        "id": "3hzAoswi0yq-",
        "outputId": "9a089d35-a38e-4b31-aa78-5f40dfb95f41"
      },
      "source": [
        "#merging df & df1\n",
        "merge = [df,df1,df2,df3]\n",
        "merged = pd.concat(merge)\n",
        "merged.shape"
      ],
      "execution_count": 570,
      "outputs": [
        {
          "output_type": "execute_result",
          "data": {
            "text/plain": [
              "(58478, 10)"
            ]
          },
          "metadata": {
            "tags": []
          },
          "execution_count": 570
        }
      ]
    },
    {
      "cell_type": "code",
      "metadata": {
        "id": "do84PdUb1paY"
      },
      "source": [
        "#shuffle\n",
        "merged = merged.sample(frac=1).reset_index(drop=True)"
      ],
      "execution_count": 571,
      "outputs": []
    },
    {
      "cell_type": "code",
      "metadata": {
        "colab": {
          "base_uri": "https://localhost:8080/"
        },
        "id": "TK6FQGMsbYsO",
        "outputId": "105d3f4e-478d-411b-8ff1-2cb42f356164"
      },
      "source": [
        "merged.columns"
      ],
      "execution_count": 572,
      "outputs": [
        {
          "output_type": "execute_result",
          "data": {
            "text/plain": [
              "Index(['articleID', 'domain', 'date', 'category', 'source', 'relation',\n",
              "       'headline', 'content', 'label', 'F-type'],\n",
              "      dtype='object')"
            ]
          },
          "metadata": {
            "tags": []
          },
          "execution_count": 572
        }
      ]
    },
    {
      "cell_type": "markdown",
      "metadata": {
        "id": "1O4gpwTKcWfJ"
      },
      "source": [
        "Columns"
      ]
    },
    {
      "cell_type": "markdown",
      "metadata": {
        "id": "VVT3E8fobhZX"
      },
      "source": [
        "- articleID : ID of the news\n",
        "- domain : News publisher's site name\n",
        "- date : Published Date\n",
        "- category : Category of the news\n",
        "- source\t: Source of the news. (One who can verify the claim of the news)\n",
        "- relation :\tRelated or Unrelated. Related if headline matches with content's claim otherwise it is labeled as Unrelated\n",
        "- headline\t: Headline of the news\n",
        "- content\t: Article or body of the news\n",
        "- label :\t1 or 0 . '1' for authentic '0' for fake\n",
        "- F-type :\tType of fake news (Clickbait, Satire, Fake(Misleading or False Context))"
      ]
    },
    {
      "cell_type": "code",
      "metadata": {
        "colab": {
          "base_uri": "https://localhost:8080/",
          "height": 391
        },
        "id": "ctgB1vZice_w",
        "outputId": "ed113023-ff6f-4d97-b54b-eda2cba1aa6d"
      },
      "source": [
        "merged.head()"
      ],
      "execution_count": 573,
      "outputs": [
        {
          "output_type": "execute_result",
          "data": {
            "text/html": [
              "<div>\n",
              "<style scoped>\n",
              "    .dataframe tbody tr th:only-of-type {\n",
              "        vertical-align: middle;\n",
              "    }\n",
              "\n",
              "    .dataframe tbody tr th {\n",
              "        vertical-align: top;\n",
              "    }\n",
              "\n",
              "    .dataframe thead th {\n",
              "        text-align: right;\n",
              "    }\n",
              "</style>\n",
              "<table border=\"1\" class=\"dataframe\">\n",
              "  <thead>\n",
              "    <tr style=\"text-align: right;\">\n",
              "      <th></th>\n",
              "      <th>articleID</th>\n",
              "      <th>domain</th>\n",
              "      <th>date</th>\n",
              "      <th>category</th>\n",
              "      <th>source</th>\n",
              "      <th>relation</th>\n",
              "      <th>headline</th>\n",
              "      <th>content</th>\n",
              "      <th>label</th>\n",
              "      <th>F-type</th>\n",
              "    </tr>\n",
              "  </thead>\n",
              "  <tbody>\n",
              "    <tr>\n",
              "      <th>0</th>\n",
              "      <td>61547</td>\n",
              "      <td>jagonews24.com</td>\n",
              "      <td>2018-10-11 15:47:19</td>\n",
              "      <td>Lifestyle</td>\n",
              "      <td>NaN</td>\n",
              "      <td>NaN</td>\n",
              "      <td>স্বামী প্রতারণা করেছে? এখন কী করবেন?</td>\n",
              "      <td>অনেক ভালোবাসা, অনেক নির্ভরতায় যার হাতটি ধরেছিল...</td>\n",
              "      <td>1.0</td>\n",
              "      <td>NaN</td>\n",
              "    </tr>\n",
              "    <tr>\n",
              "      <th>1</th>\n",
              "      <td>4458</td>\n",
              "      <td>somoynews.tv</td>\n",
              "      <td>2018-09-20 13:50:44</td>\n",
              "      <td>Sports</td>\n",
              "      <td>reporter</td>\n",
              "      <td>Related</td>\n",
              "      <td>চ্যাম্পিয়ন লিগ লাল কার্ড দেখে কাঁদলেন রোনালদো ...</td>\n",
              "      <td>আসরের শুরুতে জয় পেয়েছে জায়ান্টরা। রোমাকে ৩-০ গ...</td>\n",
              "      <td>0.0</td>\n",
              "      <td>NaN</td>\n",
              "    </tr>\n",
              "    <tr>\n",
              "      <th>2</th>\n",
              "      <td>57304</td>\n",
              "      <td>bd-pratidin.com</td>\n",
              "      <td>2018-10-10 23:40:12</td>\n",
              "      <td>National</td>\n",
              "      <td>NaN</td>\n",
              "      <td>NaN</td>\n",
              "      <td>পথযাত্রা শেষ আল্লামা মাসঊদের</td>\n",
              "      <td>বাংলাদেশ জমিয়তুল উলামার চার দিনব্যাপী পথযাত্রা...</td>\n",
              "      <td>1.0</td>\n",
              "      <td>NaN</td>\n",
              "    </tr>\n",
              "    <tr>\n",
              "      <th>3</th>\n",
              "      <td>40804</td>\n",
              "      <td>kalerkantho.com</td>\n",
              "      <td>2018-10-04 09:12:43</td>\n",
              "      <td>Finance</td>\n",
              "      <td>NaN</td>\n",
              "      <td>NaN</td>\n",
              "      <td>দরপতনে নতুন রেকর্ড রুপির</td>\n",
              "      <td>দরপতনে নতুন রেকর্ড গড়েছে ভারতীয় মুদ্রা রুপি। গ...</td>\n",
              "      <td>1.0</td>\n",
              "      <td>NaN</td>\n",
              "    </tr>\n",
              "    <tr>\n",
              "      <th>4</th>\n",
              "      <td>19411</td>\n",
              "      <td>dailyjanakantha.com</td>\n",
              "      <td>2018-09-26 18:48:17</td>\n",
              "      <td>National</td>\n",
              "      <td>NaN</td>\n",
              "      <td>NaN</td>\n",
              "      <td>বিশৃঙ্খলা করলে বিএনপিকে সমুচিত জবাব দেয়া হবে ॥...</td>\n",
              "      <td>নিজস্ব সংবাদদাতা, রাজবাড়ী ॥ সড়ক পরিবহন ও সেতু ...</td>\n",
              "      <td>1.0</td>\n",
              "      <td>NaN</td>\n",
              "    </tr>\n",
              "  </tbody>\n",
              "</table>\n",
              "</div>"
            ],
            "text/plain": [
              "   articleID               domain  ... label F-type\n",
              "0      61547       jagonews24.com  ...   1.0    NaN\n",
              "1       4458         somoynews.tv  ...   0.0    NaN\n",
              "2      57304      bd-pratidin.com  ...   1.0    NaN\n",
              "3      40804      kalerkantho.com  ...   1.0    NaN\n",
              "4      19411  dailyjanakantha.com  ...   1.0    NaN\n",
              "\n",
              "[5 rows x 10 columns]"
            ]
          },
          "metadata": {
            "tags": []
          },
          "execution_count": 573
        }
      ]
    },
    {
      "cell_type": "code",
      "metadata": {
        "colab": {
          "base_uri": "https://localhost:8080/"
        },
        "id": "POFb1wzlcn4c",
        "outputId": "fed2de48-916a-44d9-f8be-82a5ceb0e1a7"
      },
      "source": [
        "# details of the dataset\n",
        "# This dataset is huge, so we will use \"memory_usage\" in df.info\n",
        "\n",
        "def fast_intro(df):\n",
        "    print(\"------Summary-----\\n\")\n",
        "    print(df.info(memory_usage = \"deep\"))\n",
        "    print(\"\\n------Descriptive and Quartile Statistics------\\n\")\n",
        "    print(df.describe())\n",
        "    print(\"\\n------1st 10 rows------\\n\")\n",
        "    print(df.head(10))\n",
        "    print(\"\\n------last 10 rows------\\n\")\n",
        "    print(df.tail(10))\n",
        "    print(\"\\n------Random 10 rows------\\n\")\n",
        "    print(df.sample(10))\n",
        "\n",
        "fast_intro(merged)"
      ],
      "execution_count": 574,
      "outputs": [
        {
          "output_type": "stream",
          "text": [
            "------Summary-----\n",
            "\n",
            "<class 'pandas.core.frame.DataFrame'>\n",
            "RangeIndex: 58478 entries, 0 to 58477\n",
            "Data columns (total 10 columns):\n",
            " #   Column     Non-Null Count  Dtype  \n",
            "---  ------     --------------  -----  \n",
            " 0   articleID  58478 non-null  int64  \n",
            " 1   domain     58478 non-null  object \n",
            " 2   date       58478 non-null  object \n",
            " 3   category   58478 non-null  object \n",
            " 4   source     8501 non-null   object \n",
            " 5   relation   8501 non-null   object \n",
            " 6   headline   58478 non-null  object \n",
            " 7   content    58478 non-null  object \n",
            " 8   label      58478 non-null  float64\n",
            " 9   F-type     1299 non-null   object \n",
            "dtypes: float64(1), int64(1), object(8)\n",
            "memory usage: 233.5 MB\n",
            "None\n",
            "\n",
            "------Descriptive and Quartile Statistics------\n",
            "\n",
            "          articleID         label\n",
            "count  58478.000000  58478.000000\n",
            "mean   26178.306868      0.900202\n",
            "std    19379.622643      0.299733\n",
            "min        1.000000      0.000000\n",
            "25%     7094.000000      1.000000\n",
            "50%    24555.500000      1.000000\n",
            "75%    43085.750000      1.000000\n",
            "max    61780.000000      1.000000\n",
            "\n",
            "------1st 10 rows------\n",
            "\n",
            "   articleID               domain  ... label F-type\n",
            "0      61547       jagonews24.com  ...   1.0    NaN\n",
            "1       4458         somoynews.tv  ...   0.0    NaN\n",
            "2      57304      bd-pratidin.com  ...   1.0    NaN\n",
            "3      40804      kalerkantho.com  ...   1.0    NaN\n",
            "4      19411  dailyjanakantha.com  ...   1.0    NaN\n",
            "5      57674       jagonews24.com  ...   1.0    NaN\n",
            "6      25605       prothomalo.com  ...   1.0    NaN\n",
            "7      21458         somoynews.tv  ...   1.0    NaN\n",
            "8      42425  bangla.bdnews24.com  ...   1.0    NaN\n",
            "9      59943         risingbd.com  ...   1.0    NaN\n",
            "\n",
            "[10 rows x 10 columns]\n",
            "\n",
            "------last 10 rows------\n",
            "\n",
            "       articleID                domain  ... label      F-type\n",
            "58468      59014          bd24live.com  ...   1.0         NaN\n",
            "58469       1059  bengaliviralnews.com  ...   0.0  Clickbaits\n",
            "58470      12819       kalerkantho.com  ...   1.0         NaN\n",
            "58471      17517        jagonews24.com  ...   1.0         NaN\n",
            "58472      32814     banglatribune.com  ...   1.0         NaN\n",
            "58473      36122     banglatribune.com  ...   1.0         NaN\n",
            "58474       3614        ittefaq.com.bd  ...   0.0         NaN\n",
            "58475      30396       kalerkantho.com  ...   1.0         NaN\n",
            "58476       3844          risingbd.com  ...   1.0         NaN\n",
            "58477       4422      banglanews24.com  ...   1.0         NaN\n",
            "\n",
            "[10 rows x 10 columns]\n",
            "\n",
            "------Random 10 rows------\n",
            "\n",
            "       articleID                domain  ... label F-type\n",
            "41735      18020           samakal.com  ...   1.0    NaN\n",
            "28295       3661          risingbd.com  ...   0.0    NaN\n",
            "36553      47681      dhakatimes24.com  ...   1.0    NaN\n",
            "50015      23886        jagonews24.com  ...   1.0    NaN\n",
            "35080       8852  dailynayadiganta.com  ...   1.0    NaN\n",
            "27443          2             earki.com  ...   0.0    NaN\n",
            "47943       3204     banglatribune.com  ...   0.0    NaN\n",
            "41300       7767   bangla.bdnews24.com  ...   1.0    NaN\n",
            "6869       15180            mzamin.com  ...   1.0    NaN\n",
            "47187      14042          jugantor.com  ...   1.0    NaN\n",
            "\n",
            "[10 rows x 10 columns]\n"
          ],
          "name": "stdout"
        }
      ]
    },
    {
      "cell_type": "markdown",
      "metadata": {
        "id": "XEUDanjCdXox"
      },
      "source": [
        "Handling Null Value"
      ]
    },
    {
      "cell_type": "code",
      "metadata": {
        "colab": {
          "base_uri": "https://localhost:8080/"
        },
        "id": "gsC5IFz2cuXy",
        "outputId": "d159109b-dc7f-4d5f-8794-ee6ad21a28f4"
      },
      "source": [
        "merged.isnull().sum()"
      ],
      "execution_count": 575,
      "outputs": [
        {
          "output_type": "execute_result",
          "data": {
            "text/plain": [
              "articleID        0\n",
              "domain           0\n",
              "date             0\n",
              "category         0\n",
              "source       49977\n",
              "relation     49977\n",
              "headline         0\n",
              "content          0\n",
              "label            0\n",
              "F-type       57179\n",
              "dtype: int64"
            ]
          },
          "metadata": {
            "tags": []
          },
          "execution_count": 575
        }
      ]
    },
    {
      "cell_type": "code",
      "metadata": {
        "id": "4akBI23YeJPz"
      },
      "source": [
        "merged.drop(['source'], axis=1, inplace=True)\n",
        "merged.drop(['relation'], axis=1, inplace=True)\n",
        "merged.drop(['F-type'], axis=1, inplace=True)"
      ],
      "execution_count": 576,
      "outputs": []
    },
    {
      "cell_type": "code",
      "metadata": {
        "id": "yL3Crg9YejCn"
      },
      "source": [
        "# remove articleID\n",
        "merged.drop(['articleID'], axis=1, inplace=True)"
      ],
      "execution_count": 577,
      "outputs": []
    },
    {
      "cell_type": "markdown",
      "metadata": {
        "id": "pLeWrXwZfnZQ"
      },
      "source": [
        "# Dataset Cleaning"
      ]
    },
    {
      "cell_type": "code",
      "metadata": {
        "id": "Qkl49_8gfqkw"
      },
      "source": [
        "merged['domain'] = merged['domain'].astype(str)\n",
        "merged['category'] = merged['category'].astype(str)\n",
        "merged['label'] = merged['label'].astype(int)"
      ],
      "execution_count": 578,
      "outputs": []
    },
    {
      "cell_type": "code",
      "metadata": {
        "colab": {
          "base_uri": "https://localhost:8080/",
          "height": 529
        },
        "id": "LEL2YFhBglIh",
        "outputId": "34b44f6d-2374-47ed-a45d-bc1d1d31623f"
      },
      "source": [
        "merged.sample(10)"
      ],
      "execution_count": 579,
      "outputs": [
        {
          "output_type": "execute_result",
          "data": {
            "text/html": [
              "<div>\n",
              "<style scoped>\n",
              "    .dataframe tbody tr th:only-of-type {\n",
              "        vertical-align: middle;\n",
              "    }\n",
              "\n",
              "    .dataframe tbody tr th {\n",
              "        vertical-align: top;\n",
              "    }\n",
              "\n",
              "    .dataframe thead th {\n",
              "        text-align: right;\n",
              "    }\n",
              "</style>\n",
              "<table border=\"1\" class=\"dataframe\">\n",
              "  <thead>\n",
              "    <tr style=\"text-align: right;\">\n",
              "      <th></th>\n",
              "      <th>domain</th>\n",
              "      <th>date</th>\n",
              "      <th>category</th>\n",
              "      <th>headline</th>\n",
              "      <th>content</th>\n",
              "      <th>label</th>\n",
              "    </tr>\n",
              "  </thead>\n",
              "  <tbody>\n",
              "    <tr>\n",
              "      <th>51209</th>\n",
              "      <td>dailynayadiganta.com</td>\n",
              "      <td>2018-09-30 00:49:22</td>\n",
              "      <td>National</td>\n",
              "      <td>ডিজিটাল নিরাপত্তা আইন দিয়ে অসহায় করা হয়েছে আমাদের</td>\n",
              "      <td>তত্ত্বাবধায়ক সরকারের সাবেক উপদেষ্টা ব্যারিস্টা...</td>\n",
              "      <td>1</td>\n",
              "    </tr>\n",
              "    <tr>\n",
              "      <th>6384</th>\n",
              "      <td>somoynews.tv</td>\n",
              "      <td>2018-09-30 14:53:44</td>\n",
              "      <td>National</td>\n",
              "      <td>’ট্রাফিক সপ্তাহে কাঙ্ক্ষিত সফলতা আসেনি’</td>\n",
              "      <td>মাসব্যাপী ট্রাফিক কার্যক্রমে কাঙ্ক্ষিত সফলতা আ...</td>\n",
              "      <td>1</td>\n",
              "    </tr>\n",
              "    <tr>\n",
              "      <th>50643</th>\n",
              "      <td>channelionline.com</td>\n",
              "      <td>2018-10-04 14:35:26</td>\n",
              "      <td>International</td>\n",
              "      <td>অত্যাধুনিক ‘রিবন গান’ পরীক্ষা করবে মার্কিন সেন...</td>\n",
              "      <td>‘রিবন গান’ নামের একেবারে নতুন ধরনের একটি আগ্নে...</td>\n",
              "      <td>1</td>\n",
              "    </tr>\n",
              "    <tr>\n",
              "      <th>54505</th>\n",
              "      <td>kalerkantho.com</td>\n",
              "      <td>2018-09-22 16:02:03</td>\n",
              "      <td>Finance</td>\n",
              "      <td>শেনজেনে ‘সিডস ফর দ্য ফিউচার’ মাতালো বাংলাদেশি ...</td>\n",
              "      <td>হুয়াওয়ের গ্লোবাল করপোরেট সোশ্যাল রেসপনসিবিলিটি...</td>\n",
              "      <td>1</td>\n",
              "    </tr>\n",
              "    <tr>\n",
              "      <th>54299</th>\n",
              "      <td>bangla.bdnews24.com</td>\n",
              "      <td>2018-10-09 23:36:18</td>\n",
              "      <td>National</td>\n",
              "      <td>দক্ষিণ এশিয়ায় নৌ-পরিবহন খাতের বিপুল সম্ভাবনা আ...</td>\n",
              "      <td>মঙ্গলবার ঢাকার একটি হোটেলে এই সম্মেলনের উদ্বোধ...</td>\n",
              "      <td>1</td>\n",
              "    </tr>\n",
              "    <tr>\n",
              "      <th>11568</th>\n",
              "      <td>ittefaq.com.bd</td>\n",
              "      <td>2018-09-26 02:47:08</td>\n",
              "      <td>National</td>\n",
              "      <td>নাসিরনগরে মন্দির ভাঙচুর মামলায় কারাগারে ১০ জন</td>\n",
              "      <td>ব্রাহ্মণবাড়িয়ার নাসিরনগরে হিন্দু বাড়িতে হামলা ...</td>\n",
              "      <td>1</td>\n",
              "    </tr>\n",
              "    <tr>\n",
              "      <th>11669</th>\n",
              "      <td>jagonews24.com</td>\n",
              "      <td>2018-09-20 13:36:40</td>\n",
              "      <td>Politics</td>\n",
              "      <td>অন্তর্জ্বালা থেকেই মনগড়া বই লিখেছেন সিনহা : কাদের</td>\n",
              "      <td>সুরেন্দ্র কুমার সিনহা (এসকে সিনহা) সাবেক হওয়ার...</td>\n",
              "      <td>1</td>\n",
              "    </tr>\n",
              "    <tr>\n",
              "      <th>22384</th>\n",
              "      <td>banglatribune.com</td>\n",
              "      <td>2018-10-04 21:27:39</td>\n",
              "      <td>National</td>\n",
              "      <td>ব্রাহ্মণবাড়িয়ায় ট্রেনের নিচে কাটা পড়ে দুই বোনে...</td>\n",
              "      <td>ব্রাহ্মণবাড়িয়া শহরের শিমরাইল কান্দি রেলগেট এলা...</td>\n",
              "      <td>1</td>\n",
              "    </tr>\n",
              "    <tr>\n",
              "      <th>5108</th>\n",
              "      <td>banglanews24.com</td>\n",
              "      <td>2018-09-28 15:28:33</td>\n",
              "      <td>Miscellaneous</td>\n",
              "      <td>ক্রোয়েশিয়ার কোরআন প্রতিযোগিতায় বাংলাদেশের ছোট্...</td>\n",
              "      <td>ঢাকা: আন্তর্জাতিক হিফজুল কোরআন প্রতিযোগিতায় অং...</td>\n",
              "      <td>1</td>\n",
              "    </tr>\n",
              "    <tr>\n",
              "      <th>32395</th>\n",
              "      <td>dhakatimes24.com</td>\n",
              "      <td>2018-09-26 18:26:06</td>\n",
              "      <td>National</td>\n",
              "      <td>সেনানিবাসে ‘প্রয়াসের’ যুগপূর্তি উদযাপিত</td>\n",
              "      <td>বাংলাদেশ সেনাবাহিনীর পৃষ্ঠপোষকতায় পরিচালিত বিশ...</td>\n",
              "      <td>1</td>\n",
              "    </tr>\n",
              "  </tbody>\n",
              "</table>\n",
              "</div>"
            ],
            "text/plain": [
              "                     domain  ... label\n",
              "51209  dailynayadiganta.com  ...     1\n",
              "6384           somoynews.tv  ...     1\n",
              "50643    channelionline.com  ...     1\n",
              "54505       kalerkantho.com  ...     1\n",
              "54299   bangla.bdnews24.com  ...     1\n",
              "11568        ittefaq.com.bd  ...     1\n",
              "11669        jagonews24.com  ...     1\n",
              "22384     banglatribune.com  ...     1\n",
              "5108       banglanews24.com  ...     1\n",
              "32395      dhakatimes24.com  ...     1\n",
              "\n",
              "[10 rows x 6 columns]"
            ]
          },
          "metadata": {
            "tags": []
          },
          "execution_count": 579
        }
      ]
    },
    {
      "cell_type": "markdown",
      "metadata": {
        "id": "c7XG9yPMvqqG"
      },
      "source": [
        "Handling Date"
      ]
    },
    {
      "cell_type": "code",
      "metadata": {
        "id": "-T7Arot8nyfN",
        "colab": {
          "base_uri": "https://localhost:8080/"
        },
        "outputId": "90335c37-ca9b-4ce7-f249-78c443b0ec07"
      },
      "source": [
        "#merged['date']= merged['date'].apply(lambda x: x[:4] + '-' + x[5:7] + '-'+ x[8:10])\n",
        "import re\n",
        "allcount = 0\n",
        "negCount = 0\n",
        "indexList = []\n",
        "print(merged.iloc[0]['date'])\n",
        "for i in range(len(merged)):\n",
        "  if not re.match(r'(\\d{2,4}-\\d{2}-\\d{2,4})+',merged.iloc[i]['date']):\n",
        "    #print(merged.iloc[i]['date'])\n",
        "    allcount += 1\n",
        "    if merged.iloc[i]['label'] is 0:\n",
        "      negCount += 1\n",
        "    indexList.append(i)\n",
        "print(allcount)\n",
        "print(negCount)"
      ],
      "execution_count": 580,
      "outputs": [
        {
          "output_type": "stream",
          "text": [
            "2018-10-11 15:47:19\n",
            "568\n",
            "0\n"
          ],
          "name": "stdout"
        }
      ]
    },
    {
      "cell_type": "code",
      "metadata": {
        "id": "tgzpx1o8wzkC"
      },
      "source": [
        "merged = merged.drop(indexList)"
      ],
      "execution_count": 581,
      "outputs": []
    },
    {
      "cell_type": "code",
      "metadata": {
        "id": "AXxkGKBooHzf"
      },
      "source": [
        "merged['date']= merged['date'].apply(lambda x: x[:4] + '-' + x[5:7] + '-'+ x[8:10])\n",
        "merged['date'] = pd.to_datetime(merged['date'], dayfirst=True)"
      ],
      "execution_count": 582,
      "outputs": []
    },
    {
      "cell_type": "code",
      "metadata": {
        "id": "oRr0fTPLxTAp"
      },
      "source": [
        "merged = merged.sort_values(by = ['date'],ascending=False)\n"
      ],
      "execution_count": 583,
      "outputs": []
    },
    {
      "cell_type": "code",
      "metadata": {
        "colab": {
          "base_uri": "https://localhost:8080/",
          "height": 289
        },
        "id": "N8POLZLbmFQz",
        "outputId": "07864083-05ae-4486-9692-ec1294f6dffe"
      },
      "source": [
        "merged.head(5)"
      ],
      "execution_count": 584,
      "outputs": [
        {
          "output_type": "execute_result",
          "data": {
            "text/html": [
              "<div>\n",
              "<style scoped>\n",
              "    .dataframe tbody tr th:only-of-type {\n",
              "        vertical-align: middle;\n",
              "    }\n",
              "\n",
              "    .dataframe tbody tr th {\n",
              "        vertical-align: top;\n",
              "    }\n",
              "\n",
              "    .dataframe thead th {\n",
              "        text-align: right;\n",
              "    }\n",
              "</style>\n",
              "<table border=\"1\" class=\"dataframe\">\n",
              "  <thead>\n",
              "    <tr style=\"text-align: right;\">\n",
              "      <th></th>\n",
              "      <th>domain</th>\n",
              "      <th>date</th>\n",
              "      <th>category</th>\n",
              "      <th>headline</th>\n",
              "      <th>content</th>\n",
              "      <th>label</th>\n",
              "    </tr>\n",
              "  </thead>\n",
              "  <tbody>\n",
              "    <tr>\n",
              "      <th>40712</th>\n",
              "      <td>daily-bangladesh.com</td>\n",
              "      <td>2019-11-17</td>\n",
              "      <td>National</td>\n",
              "      <td>পেঁয়া‌জের কে‌জি যেভা‌বে ২০০ থে‌কে ক‌মে ৪০ টাকা...</td>\n",
              "      <td>কুষ্টিয়ার পৌর কাঁচাবাজারে হঠাৎ করেই কেজিতে ৪০ ...</td>\n",
              "      <td>0</td>\n",
              "    </tr>\n",
              "    <tr>\n",
              "      <th>39577</th>\n",
              "      <td>daily-bangladesh.com</td>\n",
              "      <td>2019-11-17</td>\n",
              "      <td>National</td>\n",
              "      <td>পেঁয়া‌জের কে‌জি যেভা‌বে ২০০ থে‌কে ক‌মে ৪০ টাকা...</td>\n",
              "      <td>কুষ্টিয়ার পৌর কাঁচাবাজারে হঠাৎ করেই কেজিতে ৪০ ...</td>\n",
              "      <td>0</td>\n",
              "    </tr>\n",
              "    <tr>\n",
              "      <th>40629</th>\n",
              "      <td>dhakajournals.com</td>\n",
              "      <td>2019-10-15</td>\n",
              "      <td>International</td>\n",
              "      <td>গাঁজা সেবনে চাকরি দেবে নাসা, বেতন ১৪ লাখ!</td>\n",
              "      <td>মাদকের বিরুদ্ধে বিশ্ব যখন একাট্টা, তখন গাঁজা স...</td>\n",
              "      <td>0</td>\n",
              "    </tr>\n",
              "    <tr>\n",
              "      <th>13850</th>\n",
              "      <td>dhakajournals.com</td>\n",
              "      <td>2019-10-15</td>\n",
              "      <td>International</td>\n",
              "      <td>গাঁজা সেবনে চাকরি দেবে নাসা, বেতন ১৪ লাখ!</td>\n",
              "      <td>মাদকের বিরুদ্ধে বিশ্ব যখন একাট্টা, তখন গাঁজা স...</td>\n",
              "      <td>0</td>\n",
              "    </tr>\n",
              "    <tr>\n",
              "      <th>49951</th>\n",
              "      <td>sharenews24.com</td>\n",
              "      <td>2019-10-13</td>\n",
              "      <td>National</td>\n",
              "      <td>সাড়ে চার কোটি টাকা ফেরত দিলেন ছাত্রলীগ নেতা</td>\n",
              "      <td>ছাত্রলীগ নেতাদের নীতি-নৈতিকতা, মানবিকতা, দেশপ্...</td>\n",
              "      <td>0</td>\n",
              "    </tr>\n",
              "  </tbody>\n",
              "</table>\n",
              "</div>"
            ],
            "text/plain": [
              "                     domain  ... label\n",
              "40712  daily-bangladesh.com  ...     0\n",
              "39577  daily-bangladesh.com  ...     0\n",
              "40629     dhakajournals.com  ...     0\n",
              "13850     dhakajournals.com  ...     0\n",
              "49951       sharenews24.com  ...     0\n",
              "\n",
              "[5 rows x 6 columns]"
            ]
          },
          "metadata": {
            "tags": []
          },
          "execution_count": 584
        }
      ]
    },
    {
      "cell_type": "markdown",
      "metadata": {
        "id": "hWCFxkHk1Y6u"
      },
      "source": [
        "Unique content handling"
      ]
    },
    {
      "cell_type": "code",
      "metadata": {
        "colab": {
          "base_uri": "https://localhost:8080/"
        },
        "id": "ccW3mW0m1X1a",
        "outputId": "45825929-4c8a-4fa9-ee1f-08167eac78d7"
      },
      "source": [
        "print(\"Unique Content :\",len(list(set(merged['content']))))\n",
        "print(\"Total rows :\",len(merged))"
      ],
      "execution_count": 585,
      "outputs": [
        {
          "output_type": "stream",
          "text": [
            "Unique Content : 52617\n",
            "Total rows : 57910\n"
          ],
          "name": "stdout"
        }
      ]
    },
    {
      "cell_type": "code",
      "metadata": {
        "id": "jBz7hMYI27_L"
      },
      "source": [
        "# dropping ALL duplicte values \n",
        "merged.drop_duplicates(subset =\"content\", \n",
        "                     keep = \"first\", inplace = True) "
      ],
      "execution_count": 586,
      "outputs": []
    },
    {
      "cell_type": "code",
      "metadata": {
        "colab": {
          "base_uri": "https://localhost:8080/",
          "height": 589
        },
        "id": "ZdN9PwGH3JXQ",
        "outputId": "30e62eb9-3d2d-4175-eef1-125d6d960df4"
      },
      "source": [
        "merged"
      ],
      "execution_count": 587,
      "outputs": [
        {
          "output_type": "execute_result",
          "data": {
            "text/html": [
              "<div>\n",
              "<style scoped>\n",
              "    .dataframe tbody tr th:only-of-type {\n",
              "        vertical-align: middle;\n",
              "    }\n",
              "\n",
              "    .dataframe tbody tr th {\n",
              "        vertical-align: top;\n",
              "    }\n",
              "\n",
              "    .dataframe thead th {\n",
              "        text-align: right;\n",
              "    }\n",
              "</style>\n",
              "<table border=\"1\" class=\"dataframe\">\n",
              "  <thead>\n",
              "    <tr style=\"text-align: right;\">\n",
              "      <th></th>\n",
              "      <th>domain</th>\n",
              "      <th>date</th>\n",
              "      <th>category</th>\n",
              "      <th>headline</th>\n",
              "      <th>content</th>\n",
              "      <th>label</th>\n",
              "    </tr>\n",
              "  </thead>\n",
              "  <tbody>\n",
              "    <tr>\n",
              "      <th>40712</th>\n",
              "      <td>daily-bangladesh.com</td>\n",
              "      <td>2019-11-17</td>\n",
              "      <td>National</td>\n",
              "      <td>পেঁয়া‌জের কে‌জি যেভা‌বে ২০০ থে‌কে ক‌মে ৪০ টাকা...</td>\n",
              "      <td>কুষ্টিয়ার পৌর কাঁচাবাজারে হঠাৎ করেই কেজিতে ৪০ ...</td>\n",
              "      <td>0</td>\n",
              "    </tr>\n",
              "    <tr>\n",
              "      <th>40629</th>\n",
              "      <td>dhakajournals.com</td>\n",
              "      <td>2019-10-15</td>\n",
              "      <td>International</td>\n",
              "      <td>গাঁজা সেবনে চাকরি দেবে নাসা, বেতন ১৪ লাখ!</td>\n",
              "      <td>মাদকের বিরুদ্ধে বিশ্ব যখন একাট্টা, তখন গাঁজা স...</td>\n",
              "      <td>0</td>\n",
              "    </tr>\n",
              "    <tr>\n",
              "      <th>49951</th>\n",
              "      <td>sharenews24.com</td>\n",
              "      <td>2019-10-13</td>\n",
              "      <td>National</td>\n",
              "      <td>সাড়ে চার কোটি টাকা ফেরত দিলেন ছাত্রলীগ নেতা</td>\n",
              "      <td>ছাত্রলীগ নেতাদের নীতি-নৈতিকতা, মানবিকতা, দেশপ্...</td>\n",
              "      <td>0</td>\n",
              "    </tr>\n",
              "    <tr>\n",
              "      <th>13685</th>\n",
              "      <td>bangla.dhakatribune.com</td>\n",
              "      <td>2019-10-12</td>\n",
              "      <td>National</td>\n",
              "      <td>কাজ শেষে সরকারকে সাড়ে ৪ কোটি টাকা ফেরত দিলেন ঠ...</td>\n",
              "      <td>চট্টগ্রাম মহানগরীতে বরাদ্দকৃত অর্থের চেয়ে কম ট...</td>\n",
              "      <td>0</td>\n",
              "    </tr>\n",
              "    <tr>\n",
              "      <th>47955</th>\n",
              "      <td>bd-journal.com</td>\n",
              "      <td>2019-10-12</td>\n",
              "      <td>National</td>\n",
              "      <td>সাড়ে ৪ কোটি টাকা ফেরত দিয়ে ভাইরাল ছাত্রলীগ নেতা</td>\n",
              "      <td>‘জাপানি সংস্থা প্রকল্পের টাকা ফেরত দিলে তাদের ...</td>\n",
              "      <td>0</td>\n",
              "    </tr>\n",
              "    <tr>\n",
              "      <th>...</th>\n",
              "      <td>...</td>\n",
              "      <td>...</td>\n",
              "      <td>...</td>\n",
              "      <td>...</td>\n",
              "      <td>...</td>\n",
              "      <td>...</td>\n",
              "    </tr>\n",
              "    <tr>\n",
              "      <th>17092</th>\n",
              "      <td>motikontho.wordpress.com</td>\n",
              "      <td>2011-04-25</td>\n",
              "      <td>National</td>\n",
              "      <td>চট্টগ্রাম মেডিকেলের শিক্ষার্থীদের আবার সড়ক অবর...</td>\n",
              "      <td>নিজস্ব মতিবেদক, চট্টগ্রাম | তারিখ: ২৫-০৪-২০১১চ...</td>\n",
              "      <td>0</td>\n",
              "    </tr>\n",
              "    <tr>\n",
              "      <th>43522</th>\n",
              "      <td>motikontho.wordpress.com</td>\n",
              "      <td>2011-03-31</td>\n",
              "      <td>Miscellaneous</td>\n",
              "      <td>শর্তসাপেক্ষে আলীমের জামিন | দৈনিক মতিকণ্ঠ</td>\n",
              "      <td>ঢাকা, মার্চ ৩১ (মতিনিউজ টোয়েন্টিফোর ডটকম) — এক...</td>\n",
              "      <td>0</td>\n",
              "    </tr>\n",
              "    <tr>\n",
              "      <th>44099</th>\n",
              "      <td>motikontho.wordpress.com</td>\n",
              "      <td>2011-03-31</td>\n",
              "      <td>Miscellaneous</td>\n",
              "      <td>চট্টগ্রামের নেতাদের নাপাক বললেন মোদাচ্ছের | দৈ...</td>\n",
              "      <td>চট্টগ্রাম মতিনিধিপুটু মারামারি বাদ দিয়ে চট্টগ...</td>\n",
              "      <td>0</td>\n",
              "    </tr>\n",
              "    <tr>\n",
              "      <th>21513</th>\n",
              "      <td>motikontho.wordpress.com</td>\n",
              "      <td>2011-03-31</td>\n",
              "      <td>Sports</td>\n",
              "      <td>ভারতের নাগরিকত্ব দাবি করলেন আফ্রিদি</td>\n",
              "      <td>কূটনৈতিক মতিবেদকগতকাল ভারতের মহালিতে অনুষ্ঠিত ...</td>\n",
              "      <td>0</td>\n",
              "    </tr>\n",
              "    <tr>\n",
              "      <th>28815</th>\n",
              "      <td>motikontho.wordpress.com</td>\n",
              "      <td>2011-03-31</td>\n",
              "      <td>Sports</td>\n",
              "      <td>কাঁদালেন আফ্রিদি | দৈনিক মতিকণ্ঠ</td>\n",
              "      <td>উটপোঁদ শুভ্র, হারেক মাহমুদ ও পাকিতারিফুল ইসলাম...</td>\n",
              "      <td>0</td>\n",
              "    </tr>\n",
              "  </tbody>\n",
              "</table>\n",
              "<p>52617 rows × 6 columns</p>\n",
              "</div>"
            ],
            "text/plain": [
              "                         domain  ... label\n",
              "40712      daily-bangladesh.com  ...     0\n",
              "40629         dhakajournals.com  ...     0\n",
              "49951           sharenews24.com  ...     0\n",
              "13685   bangla.dhakatribune.com  ...     0\n",
              "47955            bd-journal.com  ...     0\n",
              "...                         ...  ...   ...\n",
              "17092  motikontho.wordpress.com  ...     0\n",
              "43522  motikontho.wordpress.com  ...     0\n",
              "44099  motikontho.wordpress.com  ...     0\n",
              "21513  motikontho.wordpress.com  ...     0\n",
              "28815  motikontho.wordpress.com  ...     0\n",
              "\n",
              "[52617 rows x 6 columns]"
            ]
          },
          "metadata": {
            "tags": []
          },
          "execution_count": 587
        }
      ]
    },
    {
      "cell_type": "markdown",
      "metadata": {
        "id": "LZWhwr5Ycana"
      },
      "source": [
        "Data Analysis"
      ]
    },
    {
      "cell_type": "code",
      "metadata": {
        "colab": {
          "base_uri": "https://localhost:8080/"
        },
        "id": "OWuxDOXSjGvQ",
        "outputId": "5f313a82-97e8-4118-f822-dd82916e61b9"
      },
      "source": [
        "merged['domain'].value_counts()"
      ],
      "execution_count": 588,
      "outputs": [
        {
          "output_type": "execute_result",
          "data": {
            "text/plain": [
              "jagonews24.com           4932\n",
              "kalerkantho.com          4642\n",
              "banglanews24.com         4400\n",
              "banglatribune.com        4137\n",
              "jugantor.com             2838\n",
              "                         ... \n",
              "bangla24.com.bd             1\n",
              "gonews24.com                1\n",
              "daily-bangladesh.com        1\n",
              "dailyinqilab.com            1\n",
              "sangbadprotidin24.com       1\n",
              "Name: domain, Length: 91, dtype: int64"
            ]
          },
          "metadata": {
            "tags": []
          },
          "execution_count": 588
        }
      ]
    },
    {
      "cell_type": "code",
      "metadata": {
        "colab": {
          "base_uri": "https://localhost:8080/"
        },
        "id": "6mJ1Rxycj4dq",
        "outputId": "28bdb01e-5aa5-4e95-8e37-a65048d5e785"
      },
      "source": [
        "merged['category'].value_counts()"
      ],
      "execution_count": 589,
      "outputs": [
        {
          "output_type": "execute_result",
          "data": {
            "text/plain": [
              "National         20556\n",
              "International     7305\n",
              "Sports            6822\n",
              "Editorial         3546\n",
              "Politics          3160\n",
              "Miscellaneous     2811\n",
              "Entertainment     2807\n",
              "Finance           1268\n",
              "Crime             1225\n",
              "Education         1189\n",
              "Lifestyle         1030\n",
              "Technology         898\n",
              "Name: category, dtype: int64"
            ]
          },
          "metadata": {
            "tags": []
          },
          "execution_count": 589
        }
      ]
    },
    {
      "cell_type": "code",
      "metadata": {
        "colab": {
          "base_uri": "https://localhost:8080/"
        },
        "id": "nHhK2NXxbcPD",
        "outputId": "f8fae06a-f11d-4314-bef6-ad578a59df4a"
      },
      "source": [
        "# category list for fake data\n",
        "temp = merged[merged['label']==0]\n",
        "temp['category'].value_counts()"
      ],
      "execution_count": 590,
      "outputs": [
        {
          "output_type": "execute_result",
          "data": {
            "text/plain": [
              "National         1066\n",
              "Miscellaneous     608\n",
              "International     414\n",
              "Sports            394\n",
              "Entertainment     214\n",
              "Politics          199\n",
              "Editorial         176\n",
              "Lifestyle         134\n",
              "Education          82\n",
              "Crime              76\n",
              "Technology         68\n",
              "Finance            56\n",
              "Name: category, dtype: int64"
            ]
          },
          "metadata": {
            "tags": []
          },
          "execution_count": 590
        }
      ]
    },
    {
      "cell_type": "code",
      "metadata": {
        "id": "29YG8JPAjkjr"
      },
      "source": [
        "from sklearn.preprocessing import LabelEncoder  \n",
        "\n",
        "le = LabelEncoder()\n",
        "merged['domain']= le.fit_transform(merged['domain'])\n",
        "merged['category'] = le.fit_transform(merged['category'])"
      ],
      "execution_count": 591,
      "outputs": []
    },
    {
      "cell_type": "code",
      "metadata": {
        "colab": {
          "base_uri": "https://localhost:8080/",
          "height": 279
        },
        "id": "hv7h7oiSkAJa",
        "outputId": "2c851c17-dc15-4131-8286-1c31af67e1da"
      },
      "source": [
        "figure()\n",
        "sb.countplot(x='category', data=merged, palette='hls')\n",
        "show()"
      ],
      "execution_count": 592,
      "outputs": [
        {
          "output_type": "display_data",
          "data": {
            "image/png": "[encoded data removed]",
            "text/plain": [
              "<Figure size 432x288 with 1 Axes>"
            ]
          },
          "metadata": {
            "tags": [],
            "needs_background": "light"
          }
        }
      ]
    },
    {
      "cell_type": "markdown",
      "metadata": {
        "id": "BFmfwGoNraTR"
      },
      "source": [
        "Stemmer"
      ]
    },
    {
      "cell_type": "code",
      "metadata": {
        "colab": {
          "base_uri": "https://localhost:8080/"
        },
        "id": "dGn8JKsO1rAT",
        "outputId": "6ed1c625-f30d-46a2-b5f2-ad66b9304abd"
      },
      "source": [
        "!git clone https://github.com/banglakit/bengali-stemmer.git"
      ],
      "execution_count": 593,
      "outputs": [
        {
          "output_type": "stream",
          "text": [
            "fatal: destination path 'bengali-stemmer' already exists and is not an empty directory.\n"
          ],
          "name": "stdout"
        }
      ]
    },
    {
      "cell_type": "code",
      "metadata": {
        "colab": {
          "base_uri": "https://localhost:8080/"
        },
        "id": "TaktrVzP2cMF",
        "outputId": "ecf56a95-cae4-4a0d-ebbc-dc2b266a8e2f"
      },
      "source": [
        "cd \"/content/bengali-stemmer\"\n"
      ],
      "execution_count": 594,
      "outputs": [
        {
          "output_type": "stream",
          "text": [
            "/content/bengali-stemmer\n"
          ],
          "name": "stdout"
        }
      ]
    },
    {
      "cell_type": "code",
      "metadata": {
        "colab": {
          "base_uri": "https://localhost:8080/",
          "height": 35
        },
        "id": "bx7ti3vs4utt",
        "outputId": "02060cf7-df74-4c76-8efb-47b681d09b99"
      },
      "source": [
        "from bengali_stemmer.rafikamal2014 import RafiStemmer\n",
        "stemmer = RafiStemmer()\n",
        "stemmer.stem_word('কেজিতে')"
      ],
      "execution_count": 595,
      "outputs": [
        {
          "output_type": "execute_result",
          "data": {
            "application/vnd.google.colaboratory.intrinsic+json": {
              "type": "string"
            },
            "text/plain": [
              "'কেজি'"
            ]
          },
          "metadata": {
            "tags": []
          },
          "execution_count": 595
        }
      ]
    },
    {
      "cell_type": "markdown",
      "metadata": {
        "id": "dvSuOPnVrizZ"
      },
      "source": [
        "Stopwords"
      ]
    },
    {
      "cell_type": "code",
      "metadata": {
        "colab": {
          "base_uri": "https://localhost:8080/"
        },
        "id": "5cXmQeTV5ag6",
        "outputId": "2e241891-a713-4af3-ec1e-9b0105134af4"
      },
      "source": [
        "!pip install stopwordsiso\n",
        "import stopwordsiso as stopwords"
      ],
      "execution_count": 596,
      "outputs": [
        {
          "output_type": "stream",
          "text": [
            "Requirement already satisfied: stopwordsiso in /usr/local/lib/python3.6/dist-packages (0.6.1)\n"
          ],
          "name": "stdout"
        }
      ]
    },
    {
      "cell_type": "code",
      "metadata": {
        "colab": {
          "base_uri": "https://localhost:8080/"
        },
        "id": "CbHxeDOu5dij",
        "outputId": "19f49db4-93f4-4c8c-df80-6de052220e64"
      },
      "source": [
        "stop_words = stopwords.has_lang(\"th\")\n",
        "stop_words = stopwords.stopwords(\"bn\")\n",
        "print(stop_words)\n",
        "print(len(stop_words))"
      ],
      "execution_count": 597,
      "outputs": [
        {
          "output_type": "stream",
          "text": [
            "{'ইত্যাদি', 'নিজেই', 'কী', 'যথেষ্ট', 'এই', 'তারৈ', 'জানায়', 'যা', 'উনি', 'হাজার', 'করেই', 'তখন', 'অন্য', 'দেখা', 'বেশ', 'প্রায়', 'নিয়ে', 'সেটি', 'পাওয়া', 'করবে', 'কোনো', 'আমি', 'র', 'লক্ষ', 'সঙ্গেও', 'করলেন', 'এক্', 'ওকে', 'একে', 'হওয়া', 'যাওয়ার', 'গিয়ে', 'তথা', 'তাদের', 'তো', 'হয়', 'নেওয়া', 'হয়েছিল', 'থেকেও', 'হওয়ায়', 'যাতে', 'ওর', 'করিতে', 'আর', 'দুটি', 'দেওয়া', 'জানতে', 'পেয়ে', 'কাছ', 'ধরা', 'কি', 'বিনা', 'এদের', 'কেউই', 'রেখে', 'পি', 'অনেক', 'কাউকে', 'গেলে', 'যার', 'যাবে', 'বিষয়টি', 'জনকে', 'যারা', 'কখনও', 'হয়ে', 'এ', 'ফিরে', 'বাদে', 'কাছে', 'যদি', 'হচ্ছে', 'আমাদের', 'হইতে', 'তবু', 'এরা', 'কোন', 'অথবা', 'সহ', 'হইবে', 'ভাবেই', 'হওয়ার', 'সব', 'কিছুই', 'একবার', 'হয়', 'হোক', 'যতটা', 'দু', 'যাকে', 'জ্নজন', 'আগামী', 'প্রভৃতি', 'হন', 'হবে', 'দেয়', 'সামনে', 'বন', 'করি', 'দেওয়া', 'নাই', 'এতটাই', 'এস', 'এমনকী', 'শুধু', 'হত', 'ঐ', 'করছেন', 'নিয়ে', 'শুরু', 'হয়েই', 'পরেই', 'পক্ষে', 'যখন', 'কয়েক', 'জানিয়েছে', 'মধ্যভাগে', 'কিন্তু', 'নেওয়ার', 'ছাড়া', 'ও', 'দিয়েছে', 'বলেন', 'তাঁদের', 'রয়েছে', 'নয়', 'কারণ', 'ছিল', 'ই', 'কবে', 'হলেও', 'আজ', 'জানিয়ে', 'ওই', 'আরও', 'তত', 'আগে', 'করেছিলেন', 'মোটেই', 'থেকে', 'দিয়েছেন', 'ভাবে', 'এটি', 'করে', 'সহিত', 'মধ্যে', 'আগেই', 'হতে', 'তারা', 'প্রথম', 'তিনি', 'যেতে', 'তাঁাহারা', 'নেওয়া', 'যেখানে', 'তাঁর', 'দেওয়ার', 'হৈলে', 'সম্প্রতি', 'চালু', 'টি', 'তিনিও', 'করেন', 'যায়', 'চায়', 'করবেন', 'জন্যওজে', 'যেন', 'করার', 'জন্য', 'অবশ্য', 'বি', 'মাধ্যমে', 'হলে', 'নিজে', 'অথচ', 'করিয়ে', 'জে', 'জানানো', 'স্পষ্ট', 'করছে', 'আপনার', 'গুলি', 'প্রযন্ত', 'কমনে', 'থাকবেন', 'তাতে', 'একই', 'কেখা', 'বার', 'এর', 'ছিলেন', 'সেটাই', 'মতো', 'হলো', 'তুলে', 'থাকবে', 'তাই', 'বেশি', 'এব', 'পরেও', 'গেছে', 'দিকে', 'এখানে', 'উত্তর', 'ওঁদের', 'নিতে', 'নয়', 'কত', 'বিভিন্ন', 'প্রতি', 'হলেই', 'নেই', 'তাঁকে', 'করায়', 'এমনি', 'ধরে', 'হয়নি', 'থাকায়', 'ক্ষেত্রে', 'রাখা', 'ইহা', 'মধ্যেই', 'আদ্যভাগে', 'তাহলে', 'ব্যাপারে', 'কোনও', 'আবার', 'বহু', 'হয়েছে', 'দিলেন', 'কিছু', 'হিসাবে', 'হল', 'যাদের', 'দিন', 'এখন', 'দিতে', 'পর', 'ওখানে', 'তেমন', 'প্রায়', 'মাত্র', 'তুমি', 'যত', 'করেছেন', 'একটি', 'এমন', 'বললেন', 'ফের', 'উপরে', 'মনে', 'দেন', 'চেয়ে', 'নিজেদের', 'তাকে', 'চেষ্টা', 'যিনি', 'সেখান', 'এখানেই', 'আমরা', 'ধামার', 'তাও', 'তাহা', 'সঙ্গে', 'সে', 'হয়েছেন', 'কাজ', 'থেকেই', 'বক্তব্য', 'বলা', 'হয়তো', 'দুটো', 'এত', 'নাগাদ', 'উচিত', 'যাওয়া', 'ব্যবহার', 'নাকি', 'বলে', 'তা', 'আমাকে', 'এটা', 'মোট', 'প্রাথমিক', 'বরং', 'অনেকেই', 'যেমন', 'দিয়ে', 'নতুন', 'আমার', 'আই', 'তোমার', 'নানা', 'যাওয়া', 'এতে', 'দ্বারা', 'অর্থাত', 'গিয়ে', 'খুব', 'যাঁরা', 'করেছে', 'তারপর', 'এল', 'অনুযায়ী', 'পারে', 'কিংবা', 'বসে', 'কয়েক', 'কয়েকটি', 'জনের', 'ওদের', 'দেখতে', 'বলল', 'স্বয়ং', 'থাকে', 'যদিও', 'তাহাতে', 'সি', 'ছাড়াও', 'পরে', 'ওঁর', 'তিনঐ', 'সাধারণ', 'পর্যন্ত', 'করতে', 'জানা', 'জন', 'কারও', 'বলেছেন', 'যান', 'সেই', 'ঠিক', 'বা', 'দুই', 'যাঁর', 'নিজের', 'হতেই', 'তাঁরা', 'দেখে', 'করলে', 'ফলে', 'উপর', 'এবার', 'কেন', 'সেখানে', 'পাচ', 'তাহার', 'তবে', 'এঁরা', 'থাকেন', 'এসে', 'যাচ্ছে', 'এবং', 'অতএব', 'চান', 'না', 'কোটি', 'মধ্যেও', 'চলে', 'করাই', 'কেউ', 'চার', 'করা', 'ওরা', 'কে', 'পারি', 'বদলে', 'ওঁরা', 'থাকা', 'আছে', 'সুতরাং', 'আপনি', 'অবধি', 'গিয়েছে', 'গোটা', 'মতোই', 'সমস্ত', 'হইয়া', 'বলতে', 'এটাই', 'বিশেষ', 'অন্তত', 'গেল', 'পেয়্র্', 'এখনও', 'রকম', 'যে', 'পারেন', 'সবার', 'কাজে', 'এঁদের', 'করিয়া', 'সেটা', 'হবেন', 'তার', 'অনেকে', 'সেটাও'}\n",
            "398\n"
          ],
          "name": "stdout"
        }
      ]
    },
    {
      "cell_type": "markdown",
      "metadata": {
        "id": "6Qh1bQugulkY"
      },
      "source": [
        "BNLP Toolkit"
      ]
    },
    {
      "cell_type": "code",
      "metadata": {
        "colab": {
          "base_uri": "https://localhost:8080/"
        },
        "id": "RxaGJYZluoyD",
        "outputId": "94677533-8ffb-49a2-a881-b010e6057eeb"
      },
      "source": [
        "# https://bnlp.readthedocs.io/en/latest/\n",
        "# https://github.com/banglakit/awesome-bangla\n",
        "\n",
        "!pip install bnlp_toolkit"
      ],
      "execution_count": 598,
      "outputs": [
        {
          "output_type": "stream",
          "text": [
            "Requirement already satisfied: bnlp_toolkit in /usr/local/lib/python3.6/dist-packages (3.0.0)\n",
            "Requirement already satisfied: scipy in /usr/local/lib/python3.6/dist-packages (from bnlp_toolkit) (1.4.1)\n",
            "Requirement already satisfied: sklearn-crfsuite in /usr/local/lib/python3.6/dist-packages (from bnlp_toolkit) (0.3.6)\n",
            "Requirement already satisfied: nltk in /usr/local/lib/python3.6/dist-packages (from bnlp_toolkit) (3.2.5)\n",
            "Requirement already satisfied: sentencepiece in /usr/local/lib/python3.6/dist-packages (from bnlp_toolkit) (0.1.94)\n",
            "Requirement already satisfied: gensim in /usr/local/lib/python3.6/dist-packages (from bnlp_toolkit) (3.6.0)\n",
            "Requirement already satisfied: numpy in /usr/local/lib/python3.6/dist-packages (from bnlp_toolkit) (1.18.5)\n",
            "Requirement already satisfied: tabulate in /usr/local/lib/python3.6/dist-packages (from sklearn-crfsuite->bnlp_toolkit) (0.8.7)\n",
            "Requirement already satisfied: six in /usr/local/lib/python3.6/dist-packages (from sklearn-crfsuite->bnlp_toolkit) (1.15.0)\n",
            "Requirement already satisfied: python-crfsuite>=0.8.3 in /usr/local/lib/python3.6/dist-packages (from sklearn-crfsuite->bnlp_toolkit) (0.9.7)\n",
            "Requirement already satisfied: tqdm>=2.0 in /usr/local/lib/python3.6/dist-packages (from sklearn-crfsuite->bnlp_toolkit) (4.41.1)\n",
            "Requirement already satisfied: smart-open>=1.2.1 in /usr/local/lib/python3.6/dist-packages (from gensim->bnlp_toolkit) (3.0.0)\n",
            "Requirement already satisfied: requests in /usr/local/lib/python3.6/dist-packages (from smart-open>=1.2.1->gensim->bnlp_toolkit) (2.23.0)\n",
            "Requirement already satisfied: urllib3!=1.25.0,!=1.25.1,<1.26,>=1.21.1 in /usr/local/lib/python3.6/dist-packages (from requests->smart-open>=1.2.1->gensim->bnlp_toolkit) (1.24.3)\n",
            "Requirement already satisfied: chardet<4,>=3.0.2 in /usr/local/lib/python3.6/dist-packages (from requests->smart-open>=1.2.1->gensim->bnlp_toolkit) (3.0.4)\n",
            "Requirement already satisfied: certifi>=2017.4.17 in /usr/local/lib/python3.6/dist-packages (from requests->smart-open>=1.2.1->gensim->bnlp_toolkit) (2020.11.8)\n",
            "Requirement already satisfied: idna<3,>=2.5 in /usr/local/lib/python3.6/dist-packages (from requests->smart-open>=1.2.1->gensim->bnlp_toolkit) (2.10)\n"
          ],
          "name": "stdout"
        }
      ]
    },
    {
      "cell_type": "code",
      "metadata": {
        "id": "3qcyBFunuscF"
      },
      "source": [
        "from bnlp.corpus import stopwords, punctuations"
      ],
      "execution_count": 599,
      "outputs": []
    },
    {
      "cell_type": "code",
      "metadata": {
        "colab": {
          "base_uri": "https://localhost:8080/"
        },
        "id": "GvkCv6sgu6KN",
        "outputId": "6c138bf6-5cb4-4b2c-fbe3-15be7f485e0b"
      },
      "source": [
        "stopwordsBNLP = stopwords()\n",
        "print(len(stopwordsBNLP))\n",
        "print(punctuations)"
      ],
      "execution_count": 600,
      "outputs": [
        {
          "output_type": "stream",
          "text": [
            "398\n",
            "!\"#$%&'()*+,-./:;<=>?@[\\]^_`{|}~।ঃ\n"
          ],
          "name": "stdout"
        }
      ]
    },
    {
      "cell_type": "markdown",
      "metadata": {
        "id": "4Bvucfa2zG7j"
      },
      "source": [
        "# Data Preprocessing"
      ]
    },
    {
      "cell_type": "code",
      "metadata": {
        "colab": {
          "base_uri": "https://localhost:8080/"
        },
        "id": "MXDttEFW5VSO",
        "outputId": "0ddb70b7-fd5a-42fe-a3c3-ea035425e966"
      },
      "source": [
        "merged['label'].value_counts()"
      ],
      "execution_count": 601,
      "outputs": [
        {
          "output_type": "execute_result",
          "data": {
            "text/plain": [
              "1    49130\n",
              "0     3487\n",
              "Name: label, dtype: int64"
            ]
          },
          "metadata": {
            "tags": []
          },
          "execution_count": 601
        }
      ]
    },
    {
      "cell_type": "markdown",
      "metadata": {
        "id": "Srb0w9e1oQea"
      },
      "source": [
        "Temporary Dataset Preparation"
      ]
    },
    {
      "cell_type": "code",
      "metadata": {
        "id": "1vkS53NloUBg"
      },
      "source": [
        "total_len = 3448\n",
        "negative_df = merged[merged['label']==0].head(total_len)\n",
        "positive_df = merged[merged['label']==1].head(total_len)"
      ],
      "execution_count": 602,
      "outputs": []
    },
    {
      "cell_type": "code",
      "metadata": {
        "colab": {
          "base_uri": "https://localhost:8080/"
        },
        "id": "CIH_saWZpGDw",
        "outputId": "17911e0f-ec4b-4f11-b8cd-9f54de47d2a8"
      },
      "source": [
        "#merging df & df1\n",
        "merge = [negative_df,positive_df]\n",
        "merged = pd.concat(merge)\n",
        "merged.shape"
      ],
      "execution_count": 603,
      "outputs": [
        {
          "output_type": "execute_result",
          "data": {
            "text/plain": [
              "(6896, 6)"
            ]
          },
          "metadata": {
            "tags": []
          },
          "execution_count": 603
        }
      ]
    },
    {
      "cell_type": "code",
      "metadata": {
        "colab": {
          "base_uri": "https://localhost:8080/",
          "height": 589
        },
        "id": "Xptbw_ZapGDx",
        "outputId": "50542880-aae6-474a-bf46-c07a9fb8d44f"
      },
      "source": [
        "#shuffle\n",
        "merged = merged.sample(frac=1).reset_index(drop=True)\n",
        "merged"
      ],
      "execution_count": 604,
      "outputs": [
        {
          "output_type": "execute_result",
          "data": {
            "text/html": [
              "<div>\n",
              "<style scoped>\n",
              "    .dataframe tbody tr th:only-of-type {\n",
              "        vertical-align: middle;\n",
              "    }\n",
              "\n",
              "    .dataframe tbody tr th {\n",
              "        vertical-align: top;\n",
              "    }\n",
              "\n",
              "    .dataframe thead th {\n",
              "        text-align: right;\n",
              "    }\n",
              "</style>\n",
              "<table border=\"1\" class=\"dataframe\">\n",
              "  <thead>\n",
              "    <tr style=\"text-align: right;\">\n",
              "      <th></th>\n",
              "      <th>domain</th>\n",
              "      <th>date</th>\n",
              "      <th>category</th>\n",
              "      <th>headline</th>\n",
              "      <th>content</th>\n",
              "      <th>label</th>\n",
              "    </tr>\n",
              "  </thead>\n",
              "  <tbody>\n",
              "    <tr>\n",
              "      <th>0</th>\n",
              "      <td>14</td>\n",
              "      <td>2018-10-11</td>\n",
              "      <td>5</td>\n",
              "      <td>লন্ড‌নে বিএন‌পি ও আওয়ামী লী‌গের বি‌ক্ষোভ</td>\n",
              "      <td>২১ আগস্ট গ্রে‌নেড হামলা মামলার রা‌য়ের পর লন্ড‌...</td>\n",
              "      <td>1</td>\n",
              "    </tr>\n",
              "    <tr>\n",
              "      <th>1</th>\n",
              "      <td>31</td>\n",
              "      <td>2018-07-18</td>\n",
              "      <td>2</td>\n",
              "      <td>২৪ ঘন্টা আগেই জেনে নিন আপনার এইচএসসি রেজাল্ট !!</td>\n",
              "      <td>২৪ ঘন্টা আগেই অনলাইনে চেক করে দেখে নিতে পারেন ...</td>\n",
              "      <td>0</td>\n",
              "    </tr>\n",
              "    <tr>\n",
              "      <th>2</th>\n",
              "      <td>72</td>\n",
              "      <td>2018-09-21</td>\n",
              "      <td>8</td>\n",
              "      <td>‘দ্বীনি শিক্ষার কারিক্যুলাম প্রণয়নের প্রয়াস চলছে’</td>\n",
              "      <td>নিজস্ব প্রতিবেদক : ধর্মমন্ত্রী অধ্যক্ষ মতিউর র...</td>\n",
              "      <td>0</td>\n",
              "    </tr>\n",
              "    <tr>\n",
              "      <th>3</th>\n",
              "      <td>39</td>\n",
              "      <td>2018-10-10</td>\n",
              "      <td>4</td>\n",
              "      <td>মোটরসাইকেল উৎপাদনে বিনিয়োগ বাড়ানোর পরামর্শ শিল...</td>\n",
              "      <td>অর্থনৈতিক রিপোর্টার ॥ সংযোজনের পরিবর্তে মোটরসা...</td>\n",
              "      <td>1</td>\n",
              "    </tr>\n",
              "    <tr>\n",
              "      <th>4</th>\n",
              "      <td>31</td>\n",
              "      <td>2018-09-23</td>\n",
              "      <td>7</td>\n",
              "      <td>দুই বছরের বেশি সম্পর্ক ব্রেকআপ করলে হবে জেল -স...</td>\n",
              "      <td>সম্পর্কের ব্রেকাপেরও শাস্তির আইন ঘোষনা করল সুপ...</td>\n",
              "      <td>0</td>\n",
              "    </tr>\n",
              "    <tr>\n",
              "      <th>...</th>\n",
              "      <td>...</td>\n",
              "      <td>...</td>\n",
              "      <td>...</td>\n",
              "      <td>...</td>\n",
              "      <td>...</td>\n",
              "      <td>...</td>\n",
              "    </tr>\n",
              "    <tr>\n",
              "      <th>6891</th>\n",
              "      <td>55</td>\n",
              "      <td>2018-09-20</td>\n",
              "      <td>8</td>\n",
              "      <td>বঙ্গোপসাগরে লঘুচাপ, সারাদেশে তীব্র গরম</td>\n",
              "      <td>বঙ্গোপসাগরে একটি লঘুচাপ সৃষ্টি হওয়ায় সমুদ্রবন্...</td>\n",
              "      <td>0</td>\n",
              "    </tr>\n",
              "    <tr>\n",
              "      <th>6892</th>\n",
              "      <td>51</td>\n",
              "      <td>2018-10-11</td>\n",
              "      <td>8</td>\n",
              "      <td>বিভিন্ন জেলায় সড়ক দুর্ঘটনায় নিহত ১১</td>\n",
              "      <td>সড়ক দুর্ঘটনায় বুধবার বিভিন্ন জেলায় ১১ জন নিহত ...</td>\n",
              "      <td>1</td>\n",
              "    </tr>\n",
              "    <tr>\n",
              "      <th>6893</th>\n",
              "      <td>52</td>\n",
              "      <td>2018-10-10</td>\n",
              "      <td>5</td>\n",
              "      <td>বিশ্ব গণমাধ্যমে গ্রেনেড হামলা মামলার রায়</td>\n",
              "      <td>বিশ্বের প্রধান প্রধান সংবাদ মাধ্যমে গুরুত্বের ...</td>\n",
              "      <td>1</td>\n",
              "    </tr>\n",
              "    <tr>\n",
              "      <th>6894</th>\n",
              "      <td>13</td>\n",
              "      <td>2018-10-10</td>\n",
              "      <td>9</td>\n",
              "      <td>খুনিদের সর্বোচ্চ শাস্তি প্রত্যাশা আইভিপুত্র পা...</td>\n",
              "      <td>ঢাকা: ২১ আগস্ট গ্রেনেড হামলা মামলার যুগান্তকার...</td>\n",
              "      <td>1</td>\n",
              "    </tr>\n",
              "    <tr>\n",
              "      <th>6895</th>\n",
              "      <td>14</td>\n",
              "      <td>2018-09-20</td>\n",
              "      <td>8</td>\n",
              "      <td>পটুয়াখালীতে অজ্ঞাত ব্যক্তির ভাসমান লাশ উদ্ধার</td>\n",
              "      <td>পটুয়াখালীর রাঙ্গাবালী উপজেলায় অজ্ঞাত এক ব্যক্ত...</td>\n",
              "      <td>0</td>\n",
              "    </tr>\n",
              "  </tbody>\n",
              "</table>\n",
              "<p>6896 rows × 6 columns</p>\n",
              "</div>"
            ],
            "text/plain": [
              "      domain  ... label\n",
              "0         14  ...     1\n",
              "1         31  ...     0\n",
              "2         72  ...     0\n",
              "3         39  ...     1\n",
              "4         31  ...     0\n",
              "...      ...  ...   ...\n",
              "6891      55  ...     0\n",
              "6892      51  ...     1\n",
              "6893      52  ...     1\n",
              "6894      13  ...     1\n",
              "6895      14  ...     0\n",
              "\n",
              "[6896 rows x 6 columns]"
            ]
          },
          "metadata": {
            "tags": []
          },
          "execution_count": 604
        }
      ]
    },
    {
      "cell_type": "markdown",
      "metadata": {
        "id": "39R1fHVGp0-y"
      },
      "source": [
        "Train-Test Split"
      ]
    },
    {
      "cell_type": "code",
      "metadata": {
        "id": "_N-gKmU0p3kB"
      },
      "source": [
        "from sklearn.model_selection import train_test_split\n",
        "x_train,x_test,y_train,y_test=train_test_split(merged['content'], merged['label'], test_size=0.2)"
      ],
      "execution_count": 605,
      "outputs": []
    },
    {
      "cell_type": "markdown",
      "metadata": {
        "id": "_20t4Dy4zLiN"
      },
      "source": [
        "Content"
      ]
    },
    {
      "cell_type": "code",
      "metadata": {
        "colab": {
          "base_uri": "https://localhost:8080/",
          "height": 86
        },
        "id": "yDA8KTBUzQ1q",
        "outputId": "8e3c9e92-756a-4621-e93f-a1b5a111c0c3"
      },
      "source": [
        "from bnlp.corpus.util import remove_stopwords\n",
        "from bnlp import NLTKTokenizer\n",
        "\n",
        "def removeForeign(word):\n",
        "  a = \"\".join(i for i in word if 2432 <= ord(i) <= 2559)\n",
        "  return a\n",
        "\n",
        "def makeRemoveHyperLink(text):\n",
        "  result = re.sub(r'http[s]?://(?:[a-zA-Z]|[0-9]|[$-_@.&+]|[!*\\(\\),]|(?:%[0-9a-fA-F][0-9a-fA-F]))+', '', text)\n",
        "  return result\n",
        "\n",
        "def MakeHTMLremove(text):\n",
        "  '''\n",
        "  result = re.compile('(<.*?>)')\n",
        "  result = result.sub(r'', text) \n",
        "  '''\n",
        "  cleancode = re.compile('<code>.*?</code>')\n",
        "  cleanr = re.compile('<.*?>')\n",
        "  cleanentity = re.compile('&.*;')\n",
        "  cleantext = re.sub(cleancode, '', text)\n",
        "  cleantext = re.sub(cleanr, ' ', cleantext)\n",
        "  cleantext = re.sub(cleanentity, ' ', cleantext)\n",
        "  \n",
        "  return cleantext\n",
        "\n",
        "def cleaning(updated):\n",
        "  \n",
        "  #html remove\n",
        "  updated= updated.apply(lambda x: MakeHTMLremove(x))\n",
        "  #hyperlink remove\n",
        "  updated = updated.apply(lambda x: makeRemoveHyperLink(x))\n",
        "  # tokenizer\n",
        "  bnltk = NLTKTokenizer()\n",
        "  updated = updated.apply(lambda x: bnltk.word_tokenize(x))\n",
        "  # remove punctuations\n",
        "  updated = updated.apply(lambda x: [item for item in x if item not in punctuations])\n",
        "  # remove stop words\n",
        "  updated = updated.apply(lambda x: [item for item in x if item not in stopwordsBNLP])\n",
        "  # remove foreign words\n",
        "  updated = updated.apply(lambda x: [ removeForeign(item) for item in x ])\n",
        "  # stripping\n",
        "  updated = updated.apply(lambda x: [item.strip() for item in x ])\n",
        "  # remove numbers\n",
        "  updated = updated.apply(lambda x: [re.sub(r'[০১২৩৪৫৬৭৮৯\\.]+', '', item) for item in x ])\n",
        "  # stemming\n",
        "  updated = updated.apply(lambda x: [stemmer.stem_word(item) for item in x ])\n",
        "  \n",
        "  \n",
        "  return updated\n",
        "'''\n",
        "def cleaning(merged):\n",
        "  merged['content'] = merged['content'].str.replace('[^\\w\\s]','')\n",
        "  merged['content'] = merged['content'].str.split(' ')\n",
        "  merged['content'] = merged['content'].apply(lambda x: [item for item in x if item not in stopwordsBNLP])\n",
        "  #merged['content'] = merged['content'].apply(lambda x: [item for item in x if item not in punctuations])\n",
        "  merged['content'] = merged['content'].apply(lambda x: [stemmer.stem_word(y) for y in x])\n",
        "  \n",
        "  return merged\n",
        "'''\n"
      ],
      "execution_count": 606,
      "outputs": [
        {
          "output_type": "execute_result",
          "data": {
            "application/vnd.google.colaboratory.intrinsic+json": {
              "type": "string"
            },
            "text/plain": [
              "\"\\ndef cleaning(merged):\\n  merged['content'] = merged['content'].str.replace('[^\\\\w\\\\s]','')\\n  merged['content'] = merged['content'].str.split(' ')\\n  merged['content'] = merged['content'].apply(lambda x: [item for item in x if item not in stopwordsBNLP])\\n  #merged['content'] = merged['content'].apply(lambda x: [item for item in x if item not in punctuations])\\n  merged['content'] = merged['content'].apply(lambda x: [stemmer.stem_word(y) for y in x])\\n  \\n  return merged\\n\""
            ]
          },
          "metadata": {
            "tags": []
          },
          "execution_count": 606
        }
      ]
    },
    {
      "cell_type": "code",
      "metadata": {
        "colab": {
          "base_uri": "https://localhost:8080/",
          "height": 145
        },
        "id": "kae8mtGO0HYy",
        "outputId": "b09a836f-8b48-4b53-fe93-905fe4aec3cc"
      },
      "source": [
        "merged[:2]"
      ],
      "execution_count": 607,
      "outputs": [
        {
          "output_type": "execute_result",
          "data": {
            "text/html": [
              "<div>\n",
              "<style scoped>\n",
              "    .dataframe tbody tr th:only-of-type {\n",
              "        vertical-align: middle;\n",
              "    }\n",
              "\n",
              "    .dataframe tbody tr th {\n",
              "        vertical-align: top;\n",
              "    }\n",
              "\n",
              "    .dataframe thead th {\n",
              "        text-align: right;\n",
              "    }\n",
              "</style>\n",
              "<table border=\"1\" class=\"dataframe\">\n",
              "  <thead>\n",
              "    <tr style=\"text-align: right;\">\n",
              "      <th></th>\n",
              "      <th>domain</th>\n",
              "      <th>date</th>\n",
              "      <th>category</th>\n",
              "      <th>headline</th>\n",
              "      <th>content</th>\n",
              "      <th>label</th>\n",
              "    </tr>\n",
              "  </thead>\n",
              "  <tbody>\n",
              "    <tr>\n",
              "      <th>0</th>\n",
              "      <td>14</td>\n",
              "      <td>2018-10-11</td>\n",
              "      <td>5</td>\n",
              "      <td>লন্ড‌নে বিএন‌পি ও আওয়ামী লী‌গের বি‌ক্ষোভ</td>\n",
              "      <td>২১ আগস্ট গ্রে‌নেড হামলা মামলার রা‌য়ের পর লন্ড‌...</td>\n",
              "      <td>1</td>\n",
              "    </tr>\n",
              "    <tr>\n",
              "      <th>1</th>\n",
              "      <td>31</td>\n",
              "      <td>2018-07-18</td>\n",
              "      <td>2</td>\n",
              "      <td>২৪ ঘন্টা আগেই জেনে নিন আপনার এইচএসসি রেজাল্ট !!</td>\n",
              "      <td>২৪ ঘন্টা আগেই অনলাইনে চেক করে দেখে নিতে পারেন ...</td>\n",
              "      <td>0</td>\n",
              "    </tr>\n",
              "  </tbody>\n",
              "</table>\n",
              "</div>"
            ],
            "text/plain": [
              "   domain       date  ...                                            content label\n",
              "0      14 2018-10-11  ...  ২১ আগস্ট গ্রে‌নেড হামলা মামলার রা‌য়ের পর লন্ড‌...     1\n",
              "1      31 2018-07-18  ...  ২৪ ঘন্টা আগেই অনলাইনে চেক করে দেখে নিতে পারেন ...     0\n",
              "\n",
              "[2 rows x 6 columns]"
            ]
          },
          "metadata": {
            "tags": []
          },
          "execution_count": 607
        }
      ]
    },
    {
      "cell_type": "code",
      "metadata": {
        "colab": {
          "base_uri": "https://localhost:8080/"
        },
        "id": "Am8KNwNszKzy",
        "outputId": "450e5789-8c08-4e72-e52e-fa8271dd7511"
      },
      "source": [
        "preprocessed_train=cleaning(x_train.copy())\n",
        "preprocessed_train = preprocessed_train.apply(lambda x: \"\".join(\" \"+item for item in x))\n",
        "preprocessed_train"
      ],
      "execution_count": 608,
      "outputs": [
        {
          "output_type": "execute_result",
          "data": {
            "text/plain": [
              "3726     নুডলস তেহেরী বিরানী গরুর মাংস পায়েস বিখ্যাত র...\n",
              "6367     যুক্তরাজ্য পররাষ্ট্রমন্ত্রী জেরেমি হান্ট সৌদি...\n",
              "6878     সাজ আগাগোড়া একটু পছন্দ কর ডিপ লিপস্টিক লাগি ...\n",
              "305      রাজধানীর ফার্মগেট বাস কলেজছাত্রীর শরীর হাত দে...\n",
              "2943     প্রবল স্রোত তোড় সাগর মোহনা মাছ ধর  ট্রল ডুব ব...\n",
              "                              ...                        \n",
              "4797     সাবেক প্রধানমন্ত্রী বিএনপি চেয়ারপারসন বেগম খা...\n",
              "4572     টি মুসলিম দেশ একত্রিত বিশাল ইসলামি সেনাবাহিনী...\n",
              "4176     চীন জাপান শক্তি প্রদর্শন কেন্দ্রবিন্দু হ ওঠ শ...\n",
              "365       আগস্ট গ্রেনেড হামলা মামল রা  ফরমায়েশি রা  মন...\n",
              "3805     মার্কিন প্রবাসী সৌদি সরকার কঠোর সমালোচক জামাল...\n",
              "Name: content, Length: 5516, dtype: object"
            ]
          },
          "metadata": {
            "tags": []
          },
          "execution_count": 608
        }
      ]
    },
    {
      "cell_type": "code",
      "metadata": {
        "colab": {
          "base_uri": "https://localhost:8080/"
        },
        "id": "9UCeogktve28",
        "outputId": "1708280f-5e27-452d-a9a2-486c6f3ecf07"
      },
      "source": [
        "preprocessed_test=cleaning(x_test.copy())\n",
        "preprocessed_test = preprocessed_test.apply(lambda x: \"\".join(\" \"+item for item in x))\n",
        "preprocessed_test"
      ],
      "execution_count": 609,
      "outputs": [
        {
          "output_type": "execute_result",
          "data": {
            "text/plain": [
              "6179     বয়স অনেক বিদা ঘন্ বাজ অভিষেক হ্যাঁ  বছর বয়স প...\n",
              "6084     দিনাজপুর হি সীমান্ত রায়ভাগ এলাকা অভিযান চালি ...\n",
              "3593     ফরিদপুর ট্রাকমাহেন্দ্র সংঘর্ষ শিক্ষকসহ দুজন ন...\n",
              "6485     নিজস্ব প্রতিবেদক আরটিএনএন ঢাকা  আগস্ট গ্রেনেড...\n",
              "1849     ইনজুরির কারণ একমাস মাঠ বাহির জুভেন্টাস উইঙ্গ ...\n",
              "                              ...                        \n",
              "3531     জান রুম একা থাক এক মজা কেউ আপনা দেখব খুশি যেগ...\n",
              "4306     জাসপ্রিত বুমরাহ  ইনিংস তম ওভার দ্বিতী ম ডিপ ম...\n",
              "657      প্রধানমন্ত্রী শেখ হাসিনা জাতিসংঘ পরিষ তম অধিব...\n",
              "4467     সাভার মৌ বেগম  নাম এক গার্মেন্ট শ্রমিক হত্য ল...\n",
              "3924     রাজধানীর বঙ্গবন্ধু এভিনিউ  সাল  আগস্ট ভয়াবহ গ...\n",
              "Name: content, Length: 1380, dtype: object"
            ]
          },
          "metadata": {
            "tags": []
          },
          "execution_count": 609
        }
      ]
    },
    {
      "cell_type": "markdown",
      "metadata": {
        "id": "gvwGvR9yqSJz"
      },
      "source": [
        "Tf-IDF vectorizer"
      ]
    },
    {
      "cell_type": "code",
      "metadata": {
        "id": "RaIi-Hs8mIfM"
      },
      "source": [
        "from sklearn.feature_extraction.text import TfidfVectorizer \n",
        "from sklearn.metrics import accuracy_score\n",
        "from sklearn.metrics import confusion_matrix"
      ],
      "execution_count": 610,
      "outputs": []
    },
    {
      "cell_type": "code",
      "metadata": {
        "colab": {
          "base_uri": "https://localhost:8080/"
        },
        "id": "2v-qE19QmkQo",
        "outputId": "ec362df8-81aa-4257-e710-628f3f74a6ca"
      },
      "source": [
        "tfidf_vectorizer=TfidfVectorizer()\n",
        "tfidf_train=tfidf_vectorizer.fit_transform(preprocessed_train)\n",
        "tfidf_test=tfidf_vectorizer.transform(preprocessed_test)\n",
        "tfidf_train.shape"
      ],
      "execution_count": 611,
      "outputs": [
        {
          "output_type": "execute_result",
          "data": {
            "text/plain": [
              "(5516, 8091)"
            ]
          },
          "metadata": {
            "tags": []
          },
          "execution_count": 611
        }
      ]
    },
    {
      "cell_type": "markdown",
      "metadata": {
        "id": "QoWaB2mPqf6m"
      },
      "source": [
        "# Model Selection"
      ]
    },
    {
      "cell_type": "code",
      "metadata": {
        "id": "RUWMbMIPz6Ve"
      },
      "source": [
        "from sklearn.ensemble import RandomForestClassifier\n",
        "from sklearn.linear_model import PassiveAggressiveClassifier\n",
        "from sklearn.linear_model import LogisticRegression\n",
        "from sklearn.neighbors import KNeighborsClassifier\n",
        "from sklearn.ensemble import RandomForestClassifier\n",
        "from sklearn.svm import SVR\n",
        "from sklearn.svm import SVC\n",
        "from sklearn.tree import DecisionTreeClassifier\n",
        "from sklearn.naive_bayes import BernoulliNB\n",
        "from sklearn.naive_bayes import GaussianNB\n",
        "from xgboost import XGBClassifier\n",
        "from sklearn.naive_bayes import MultinomialNB"
      ],
      "execution_count": 612,
      "outputs": []
    },
    {
      "cell_type": "code",
      "metadata": {
        "id": "9BWgBpbE0k2G"
      },
      "source": [
        "models = {\"KNN\": KNeighborsClassifier(),\n",
        "          \"Logistic Regression\": LogisticRegression(), \n",
        "          \"Random Forest\": RandomForestClassifier(n_estimators=100),\n",
        "         \"Linear Support Vector\" : SVC(kernel='rbf', C=1, gamma=1),\n",
        "         \"naive_bayes\": MultinomialNB(),\n",
        "         \"Decision tree\": DecisionTreeClassifier(),\n",
        "          \"XGBoost\" : XGBClassifier(),\n",
        "          \"Passive_Aggressive\" : PassiveAggressiveClassifier(max_iter=50)\n",
        "            }"
      ],
      "execution_count": 613,
      "outputs": []
    },
    {
      "cell_type": "code",
      "metadata": {
        "id": "OsIKBQD30_58"
      },
      "source": [
        "def fit_and_score(models, X_train, X_test, y_train, y_test):\n",
        "  # Make a list to keep model scores\n",
        "  model_scores = {}\n",
        "  # Loop through models\n",
        "  for name, model in models.items():\n",
        "    print(name)\n",
        "    # Fit the model to the data\n",
        "    model.fit(X_train, y_train)\n",
        "    # Evaluate the model and append its score to model_scores\n",
        "    model_scores[name] = model.score(X_test, y_test)\n",
        "  return model_scores"
      ],
      "execution_count": 614,
      "outputs": []
    },
    {
      "cell_type": "code",
      "metadata": {
        "colab": {
          "base_uri": "https://localhost:8080/"
        },
        "id": "jbxItXPs1Wi2",
        "outputId": "97fd3f6d-5c6c-427f-fde7-698f3708ff79"
      },
      "source": [
        "model_scores = fit_and_score(models=models,\n",
        "                             X_train=tfidf_train,\n",
        "                             X_test=tfidf_test,\n",
        "                             y_train=y_train,\n",
        "                             y_test=y_test)\n",
        "model_scores"
      ],
      "execution_count": 615,
      "outputs": [
        {
          "output_type": "stream",
          "text": [
            "KNN\n",
            "Logistic Regression\n",
            "Random Forest\n",
            "Linear Support Vector\n",
            "naive_bayes\n",
            "Decision tree\n",
            "XGBoost\n",
            "Passive_Aggressive\n"
          ],
          "name": "stdout"
        },
        {
          "output_type": "stream",
          "text": [
            "/usr/local/lib/python3.6/dist-packages/sklearn/linear_model/_stochastic_gradient.py:557: ConvergenceWarning: Maximum number of iteration reached before convergence. Consider increasing max_iter to improve the fit.\n",
            "  ConvergenceWarning)\n"
          ],
          "name": "stderr"
        },
        {
          "output_type": "execute_result",
          "data": {
            "text/plain": [
              "{'Decision tree': 0.7746376811594203,\n",
              " 'KNN': 0.7862318840579711,\n",
              " 'Linear Support Vector': 0.855072463768116,\n",
              " 'Logistic Regression': 0.7963768115942029,\n",
              " 'Passive_Aggressive': 0.8115942028985508,\n",
              " 'Random Forest': 0.8420289855072464,\n",
              " 'XGBoost': 0.8130434782608695,\n",
              " 'naive_bayes': 0.7673913043478261}"
            ]
          },
          "metadata": {
            "tags": []
          },
          "execution_count": 615
        }
      ]
    },
    {
      "cell_type": "code",
      "metadata": {
        "colab": {
          "base_uri": "https://localhost:8080/",
          "height": 364
        },
        "id": "XyXue56z1ghZ",
        "outputId": "f2e75dd4-030a-4589-962b-8e9b9c6d6f5e"
      },
      "source": [
        "model_compare = pd.DataFrame(model_scores, index=['accuracy'])\n",
        "model_compare.T.plot.bar();"
      ],
      "execution_count": 616,
      "outputs": [
        {
          "output_type": "display_data",
          "data": {
            "image/png": "[encoded data removed]",
            "text/plain": [
              "<Figure size 432x288 with 1 Axes>"
            ]
          },
          "metadata": {
            "tags": [],
            "needs_background": "light"
          }
        }
      ]
    },
    {
      "cell_type": "code",
      "metadata": {
        "id": "uLtKZ31tmyKo"
      },
      "source": [
        "# # Initialize the PassiveAggressiveClassifier and fit training sets\n",
        "# pa_classifier=PassiveAggressiveClassifier(max_iter=50)\n",
        "# pa_classifier.fit(tfidf_train,y_train)"
      ],
      "execution_count": 617,
      "outputs": []
    },
    {
      "cell_type": "code",
      "metadata": {
        "id": "6SIDxT6JnWFj"
      },
      "source": [
        "# # Predict and calculate accuracy\n",
        "# y_pred=pa_classifier.predict(tfidf_test)\n",
        "# score=accuracy_score(y_test,y_pred)\n",
        "# print(f'Accuracy: {round(score*100,2)}%')"
      ],
      "execution_count": 618,
      "outputs": []
    }
  ]
}